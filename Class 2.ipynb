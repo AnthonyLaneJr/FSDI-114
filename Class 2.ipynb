{
 "cells": [
  {
   "cell_type": "code",
   "execution_count": 5,
   "id": "fa6d4330",
   "metadata": {},
   "outputs": [],
   "source": [
    "class Node:\n",
    "    def __init__(self, data):\n",
    "        self.above = None\n",
    "        self.below = None\n",
    "        self.data = data"
   ]
  },
  {
   "cell_type": "code",
   "execution_count": 63,
   "id": "302e8959",
   "metadata": {},
   "outputs": [],
   "source": [
    "class Stack:\n",
    "    def __init__(self):\n",
    "        self.base = None\n",
    "        self.top = None\n",
    "        \n",
    "    def push(self, element):\n",
    "        if not self.base:\n",
    "            self.base = Node(element)\n",
    "            self.top = self.base\n",
    "        else:\n",
    "            topmost_item = self.top\n",
    "            new_node = Node(element)\n",
    "            topmost_item.above = new_node\n",
    "            new_node.below = topmost_item\n",
    "            self.top = new_node\n",
    "    \n",
    "    def pop(self):\n",
    "        if not self.base:\n",
    "            raise IndexError(\"Stack Empty\")\n",
    "        if self.top == self.base:\n",
    "            value = self.base.data\n",
    "            self.top = None\n",
    "            self.base = None\n",
    "            return value\n",
    "        new_top = self.top.below\n",
    "        old_top = self.top\n",
    "        new_top.above = None\n",
    "        self.top = new_top\n",
    "        return old_top.data\n",
    "    \n",
    "    def size(self):\n",
    "        #should return the total amount of elements in out stack\n",
    "        #this should return an integer that represents our stacks size\n",
    "        if not self.base:\n",
    "            return 0\n",
    "        counter = 1\n",
    "        data = self.base\n",
    "        while data.above:\n",
    "            counter = 1+counter\n",
    "            data = data.above\n",
    "        return counter\n",
    "      \n",
    "    def is_empty(self):\n",
    "        # return true if teh stack is empty false, otherwise\n",
    "        data = self.base\n",
    "        if data == None:\n",
    "            return False\n",
    "        else:\n",
    "            return True\n",
    "       \n",
    "    def peek(self):\n",
    "        #should return data ssociated with topmost node without removing said node form our stack\n",
    "        data = self.top\n",
    "        return data"
   ]
  },
  {
   "cell_type": "code",
   "execution_count": 48,
   "id": "d32f3b0c",
   "metadata": {},
   "outputs": [],
   "source": [
    "def reverse_string(mystring):\n",
    "    output_str = \"\"\n",
    "    stack = Stack()\n",
    "    for letter in mystring:\n",
    "        stack.push(letter)\n",
    "    for _ in range(len(mystring)):\n",
    "        output_str += stack.pop()\n",
    "    return output_str"
   ]
  },
  {
   "cell_type": "code",
   "execution_count": 26,
   "id": "29730567",
   "metadata": {},
   "outputs": [
    {
     "data": {
      "text/plain": [
       "'ynot'"
      ]
     },
     "execution_count": 26,
     "metadata": {},
     "output_type": "execute_result"
    }
   ],
   "source": [
    "reverse_string(\"tony\")"
   ]
  },
  {
   "cell_type": "code",
   "execution_count": 60,
   "id": "4540337c",
   "metadata": {},
   "outputs": [
    {
     "name": "stdout",
     "output_type": "stream",
     "text": [
      "TOK!\n"
     ]
    }
   ],
   "source": [
    "stack = Stack()\n",
    "for i in range(10):\n",
    "    stack.push(i)\n",
    "    \n",
    "try:   \n",
    "    assert stack.size() == 10\n",
    "    print(\"TOK!\")\n",
    "except Exception as e:\n",
    "    print(stack.size())\n"
   ]
  },
  {
   "cell_type": "code",
   "execution_count": 75,
   "id": "1e3a0181",
   "metadata": {},
   "outputs": [
    {
     "name": "stdout",
     "output_type": "stream",
     "text": [
      "5\n",
      "9788960\n",
      "9789088\n"
     ]
    }
   ],
   "source": [
    "#passing by valaue\n",
    "x=5\n",
    "y=x\n",
    "x =+ 1\n",
    "\n",
    "print(y)\n",
    "print (id(x))\n",
    "print (id(y))"
   ]
  },
  {
   "cell_type": "code",
   "execution_count": 74,
   "id": "8f8fbb8e",
   "metadata": {},
   "outputs": [
    {
     "name": "stdout",
     "output_type": "stream",
     "text": [
      "[1, 2, 3, 4]\n",
      "139951206686656\n",
      "139951206686656\n"
     ]
    }
   ],
   "source": [
    "#passing by reference\n",
    "\n",
    "x = [1,2,3,4,5]\n",
    "\n",
    "y = x\n",
    "\n",
    "x.pop()\n",
    "    \n",
    "print(y)\n",
    "\n",
    "print (id(x))\n",
    "print (id(y))"
   ]
  },
  {
   "cell_type": "code",
   "execution_count": 76,
   "id": "20ed0506",
   "metadata": {},
   "outputs": [],
   "source": [
    "class Queue:\n",
    "    def __init__(self):\n",
    "        self.items = []\n",
    "        \n",
    "    def enqueue(self, element):\n",
    "        self.items.insert(0, element)\n",
    "        \n",
    "    def enqueue(self):\n",
    "        return self.items.pop()\n",
    "    \n",
    "    def size(self):\n",
    "        return len(self.items)\n",
    "    \n",
    "    def is_empty(self):\n",
    "        return self.items == []\n",
    "    \n",
    "    def peek(self):\n",
    "        return self.items[len(self.items)-1]\n",
    "    "
   ]
  },
  {
   "cell_type": "code",
   "execution_count": 77,
   "id": "82600a60",
   "metadata": {},
   "outputs": [
    {
     "name": "stdout",
     "output_type": "stream",
     "text": [
      "Element: 0\n",
      "Element: 1\n",
      "Element: 2\n",
      "Element: 3\n",
      "Element: 4\n",
      "Element: 5\n",
      "Element: 6\n",
      "Element: 7\n",
      "Element: 8\n",
      "Element: 9\n"
     ]
    }
   ],
   "source": [
    "queue = Queue()\n",
    "\n",
    "for i in range(10):\n",
    "    queue.enqueue(i)\n",
    "\n",
    "while not queue.is_empty():\n",
    "    print(\"Element: %s\" % queue.dequeue())"
   ]
  },
  {
   "cell_type": "code",
   "execution_count": 78,
   "id": "ad82d983",
   "metadata": {},
   "outputs": [],
   "source": []
  },
  {
   "cell_type": "code",
   "execution_count": 115,
   "id": "4dfef84f",
   "metadata": {},
   "outputs": [],
   "source": [
    "# Implement a Queue class without using a python list based on our approach with Stack.\n",
    "# Consider using a node class for this as well.\n",
    "class QNode:\n",
    "    def __init__(self, data):\n",
    "        self.front = None\n",
    "        self.back = None\n",
    "        self.data = data\n",
    "        \n",
    "class Queue:\n",
    "    def __init__(self):\n",
    "        self.next = None\n",
    "        self.last = None\n",
    "        \n",
    "    def enqueue(self, element):\n",
    "        if not self.last:\n",
    "            self.last = QNode(element)\n",
    "            self.next = self.last\n",
    "        else:\n",
    "            frontmost_item = self.next\n",
    "            new_node = QNode(element)\n",
    "            frontmost_item.front  = new_node\n",
    "            new_node.back = frontmost_item\n",
    "            self.front = new_node\n",
    "        \n",
    "    def enqueue(self):\n",
    "        if not self.base:\n",
    "            raise IndexError(\"Queue Empty\")\n",
    "        if self.front == self.base:\n",
    "            value = self.base.data\n",
    "            self.front=None\n",
    "            self.base=None\n",
    "            return value\n",
    "        new_front = self.front.back\n",
    "        old_front = self.front\n",
    "        new_front.front = None\n",
    "        self.front = new_front\n",
    "        return old_front.data\n",
    "    \n",
    "    def size(self):\n",
    "        if not self.base:\n",
    "            return 0\n",
    "        counter=1\n",
    "        data = self.base\n",
    "        while data.front:\n",
    "            counter = 1+counter\n",
    "            data = data.front\n",
    "        return counter\n",
    "    \n",
    "    def is_empty(self):\n",
    "        if self.base == None:\n",
    "            return True\n",
    "        else:\n",
    "            return False\n",
    "        \n",
    "    \n",
    "    def peek(self):\n",
    "        value = self.front\n",
    "        return value\n",
    "        "
   ]
  },
  {
   "cell_type": "code",
   "execution_count": 116,
   "id": "22b2220f",
   "metadata": {},
   "outputs": [
    {
     "ename": "TypeError",
     "evalue": "enqueue() takes 1 positional argument but 2 were given",
     "output_type": "error",
     "traceback": [
      "\u001b[0;31m---------------------------------------------------------------------------\u001b[0m",
      "\u001b[0;31mTypeError\u001b[0m                                 Traceback (most recent call last)",
      "Input \u001b[0;32mIn [116]\u001b[0m, in \u001b[0;36m<cell line: 3>\u001b[0;34m()\u001b[0m\n\u001b[1;32m      1\u001b[0m queue \u001b[38;5;241m=\u001b[39m Queue()\n\u001b[1;32m      3\u001b[0m \u001b[38;5;28;01mfor\u001b[39;00m i \u001b[38;5;129;01min\u001b[39;00m \u001b[38;5;28mrange\u001b[39m(\u001b[38;5;241m10\u001b[39m):\n\u001b[0;32m----> 4\u001b[0m     \u001b[43mqueue\u001b[49m\u001b[38;5;241;43m.\u001b[39;49m\u001b[43menqueue\u001b[49m\u001b[43m(\u001b[49m\u001b[43mi\u001b[49m\u001b[43m)\u001b[49m\n\u001b[1;32m      6\u001b[0m \u001b[38;5;28;01mtry\u001b[39;00m:   \n\u001b[1;32m      7\u001b[0m     \u001b[38;5;28;01massert\u001b[39;00m queue\u001b[38;5;241m.\u001b[39msize() \u001b[38;5;241m==\u001b[39m \u001b[38;5;241m10\u001b[39m\n",
      "\u001b[0;31mTypeError\u001b[0m: enqueue() takes 1 positional argument but 2 were given"
     ]
    }
   ],
   "source": [
    "queue = Queue()\n",
    "\n",
    "for i in range(10):\n",
    "    queue.enqueue(i)\n",
    "\n",
    "try:   \n",
    "    assert queue.size() == 10\n",
    "    print(\"TOK!\")\n",
    "except Exception as e:\n",
    "    print(queue.size())"
   ]
  },
  {
   "cell_type": "code",
   "execution_count": 114,
   "id": "c98ba713",
   "metadata": {},
   "outputs": [
    {
     "ename": "TypeError",
     "evalue": "enqueue() takes 1 positional argument but 2 were given",
     "output_type": "error",
     "traceback": [
      "\u001b[0;31m---------------------------------------------------------------------------\u001b[0m",
      "\u001b[0;31mTypeError\u001b[0m                                 Traceback (most recent call last)",
      "Input \u001b[0;32mIn [114]\u001b[0m, in \u001b[0;36m<cell line: 3>\u001b[0;34m()\u001b[0m\n\u001b[1;32m      1\u001b[0m queue \u001b[38;5;241m=\u001b[39m Queue()\n\u001b[1;32m      3\u001b[0m \u001b[38;5;28;01mfor\u001b[39;00m i \u001b[38;5;129;01min\u001b[39;00m \u001b[38;5;28mrange\u001b[39m(\u001b[38;5;241m10\u001b[39m):\n\u001b[0;32m----> 4\u001b[0m     \u001b[43mqueue\u001b[49m\u001b[38;5;241;43m.\u001b[39;49m\u001b[43menqueue\u001b[49m\u001b[43m(\u001b[49m\u001b[43mi\u001b[49m\u001b[43m)\u001b[49m\n\u001b[1;32m      6\u001b[0m \u001b[38;5;28;01mtry\u001b[39;00m:   \n\u001b[1;32m      7\u001b[0m     \u001b[38;5;28;01massert\u001b[39;00m queue\u001b[38;5;241m.\u001b[39mis_empty() \u001b[38;5;241m==\u001b[39m \u001b[38;5;28;01mTrue\u001b[39;00m\n",
      "\u001b[0;31mTypeError\u001b[0m: enqueue() takes 1 positional argument but 2 were given"
     ]
    }
   ],
   "source": [
    "queue = Queue()\n",
    "\n",
    "for i in range(10):\n",
    "    queue.enqueue(i)\n",
    "\n",
    "try:   \n",
    "    assert queue.is_empty() == True\n",
    "    print(\"TOK!\")\n",
    "except Exception as e:\n",
    "    print(queue.is_empty())"
   ]
  },
  {
   "cell_type": "code",
   "execution_count": 103,
   "id": "b21fedc4",
   "metadata": {},
   "outputs": [
    {
     "ename": "SyntaxError",
     "evalue": "'return' outside function (2401478406.py, line 7)",
     "output_type": "error",
     "traceback": [
      "\u001b[0;36m  Input \u001b[0;32mIn [103]\u001b[0;36m\u001b[0m\n\u001b[0;31m    return queue.peek()\u001b[0m\n\u001b[0m    ^\u001b[0m\n\u001b[0;31mSyntaxError\u001b[0m\u001b[0;31m:\u001b[0m 'return' outside function\n"
     ]
    }
   ],
   "source": [
    "queue = Queue()\n",
    "\n",
    "for i in range(10):\n",
    "    queue.post(i)\n",
    "    print(i)\n",
    "    \n",
    "    return queue.peek()\n"
   ]
  },
  {
   "cell_type": "code",
   "execution_count": null,
   "id": "13879726",
   "metadata": {},
   "outputs": [],
   "source": []
  }
 ],
 "metadata": {
  "kernelspec": {
   "display_name": "Python 3 (ipykernel)",
   "language": "python",
   "name": "python3"
  },
  "language_info": {
   "codemirror_mode": {
    "name": "ipython",
    "version": 3
   },
   "file_extension": ".py",
   "mimetype": "text/x-python",
   "name": "python",
   "nbconvert_exporter": "python",
   "pygments_lexer": "ipython3",
   "version": "3.8.10"
  }
 },
 "nbformat": 4,
 "nbformat_minor": 5
}
