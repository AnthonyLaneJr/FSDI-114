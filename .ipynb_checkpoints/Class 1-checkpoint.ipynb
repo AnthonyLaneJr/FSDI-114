{
 "cells": [
  {
   "cell_type": "code",
   "execution_count": 1,
   "id": "c1bb6b44",
   "metadata": {},
   "outputs": [
    {
     "name": "stdout",
     "output_type": "stream",
     "text": [
      "h\n",
      "e\n",
      "l\n",
      "l\n",
      "o\n",
      ",\n",
      " \n",
      "w\n",
      "o\n",
      "r\n",
      "l\n",
      "d\n"
     ]
    }
   ],
   "source": [
    "for letter in \"hello, world\":\n",
    "    print(letter)"
   ]
  },
  {
   "cell_type": "markdown",
   "id": "9782d9f1",
   "metadata": {},
   "source": [
    "# Problem 1\n",
    "\n",
    "### Given two strings (string_a and string_b) determine if they are anagrams of each other given the following criteria:\n",
    "\n",
    ">two strings are only anagrams of each other if all conditions below are met:\n",
    ">* They must be exactly the same length\n",
    ">* THey must use exactly the same characters (no more, no less)\n",
    "\n",
    "'Examples: cars adn scar, heart and earth, etc.'\n",
    "\n",
    "## Instructions\n",
    "Create a function called \"anagram_ceck\" that returns true if the two parameters (both strings) submitted are anagrams of each other and false otehrwise."
   ]
  },
  {
   "cell_type": "code",
   "execution_count": 2,
   "id": "32bdad76",
   "metadata": {},
   "outputs": [],
   "source": [
    "def anagram_check(str1, str2):\n",
    "    return sorted(str1) == sorted(str2)"
   ]
  },
  {
   "cell_type": "code",
   "execution_count": 4,
   "id": "d5e927ec",
   "metadata": {},
   "outputs": [
    {
     "data": {
      "text/plain": [
       "True"
      ]
     },
     "execution_count": 4,
     "metadata": {},
     "output_type": "execute_result"
    }
   ],
   "source": [
    "anagram_check(\"heart\", \"earth\")"
   ]
  },
  {
   "cell_type": "code",
   "execution_count": 11,
   "id": "69aa4967",
   "metadata": {},
   "outputs": [],
   "source": [
    "def anagram_check(string_a, string_b):\n",
    "    string_a = (string_a.lower()).replace(\" \", \"\")\n",
    "    string_b = (string_b.lower()).replace(\" \", \"\")\n",
    "    if len(string_a) != len(string_b):\n",
    "        return false\n",
    "    char_times_a = dict()\n",
    "    char_times_b = dict()\n",
    "    for i in range (len(string_a)):\n",
    "        if string_a[i] not in char_times_a.keys():\n",
    "            char_times_a[string_a[i]] = 1\n",
    "        else:\n",
    "            char_times_a[string_a[i]] += 1\n",
    "        if string_b[i] not in char_times_b.keys():\n",
    "            char_times_b[string_b[i]] = 1\n",
    "        else:\n",
    "            char_times_b[string_b[i]] +=1\n",
    "    return char_times_a == char_times_b"
   ]
  },
  {
   "cell_type": "code",
   "execution_count": 8,
   "id": "30023279",
   "metadata": {},
   "outputs": [
    {
     "data": {
      "text/plain": [
       "True"
      ]
     },
     "execution_count": 8,
     "metadata": {},
     "output_type": "execute_result"
    }
   ],
   "source": [
    "anagram_check(\"heart\", \"earth\")"
   ]
  },
  {
   "cell_type": "code",
   "execution_count": 12,
   "id": "21734484",
   "metadata": {},
   "outputs": [
    {
     "data": {
      "text/plain": [
       "True"
      ]
     },
     "execution_count": 12,
     "metadata": {},
     "output_type": "execute_result"
    }
   ],
   "source": [
    "anagram_check(\"I am Lord Voldemort\", \"Tom Marvolo Riddle\")"
   ]
  },
  {
   "cell_type": "code",
   "execution_count": 1,
   "id": "06e8d179",
   "metadata": {},
   "outputs": [],
   "source": [
    "class Stack:\n",
    "    def __init__(self):\n",
    "        self.items = []\n",
    "        \n",
    "    def push(self, element):\n",
    "        self.items.append(element)\n",
    "        \n",
    "    def pop(self):\n",
    "        return self.items.pop()\n",
    "        \n",
    "    def size(self):\n",
    "        return len(self.items)\n",
    "    \n",
    "    def peek(self):\n",
    "        return self.items[len(self.items-1)]\n",
    "    \n",
    "    def is_empty(self):\n",
    "        return self.items == []"
   ]
  },
  {
   "cell_type": "markdown",
   "id": "27460f85",
   "metadata": {},
   "source": [
    "# Problem 2\n",
    "### Use our stack class to invert a string\n",
    "Create a function called \"string_reverse\" that talse a strings a apramater snad inverts it using our stackl class. \n",
    "\n",
    "examples:\n",
    "String_reversel(\"Rafael\") should return \"leafaR\"\n",
    "etc. -should respect spaces and capitalizations"
   ]
  },
  {
   "cell_type": "code",
   "execution_count": 3,
   "id": "8fa18554",
   "metadata": {},
   "outputs": [],
   "source": [
    "\n",
    "def string_reverse(mystring):\n",
    "    output_str = \"\"\n",
    "    stack = Stack()\n",
    "    for letter in mystring:\n",
    "        stack.push(letter)\n",
    "    while not stack.is_empty():\n",
    "        output_str += stack.pop()\n",
    "    return output_str"
   ]
  },
  {
   "cell_type": "code",
   "execution_count": 4,
   "id": "e4a76d05",
   "metadata": {
    "scrolled": true
   },
   "outputs": [
    {
     "ename": "NameError",
     "evalue": "name 'Stack' is not defined",
     "output_type": "error",
     "traceback": [
      "\u001b[0;31m---------------------------------------------------------------------------\u001b[0m",
      "\u001b[0;31mNameError\u001b[0m                                 Traceback (most recent call last)",
      "Input \u001b[0;32mIn [4]\u001b[0m, in \u001b[0;36m<cell line: 1>\u001b[0;34m()\u001b[0m\n\u001b[0;32m----> 1\u001b[0m \u001b[43mstring_reverse\u001b[49m\u001b[43m(\u001b[49m\u001b[38;5;124;43m\"\u001b[39;49m\u001b[38;5;124;43mAnthony\u001b[39;49m\u001b[38;5;124;43m\"\u001b[39;49m\u001b[43m)\u001b[49m\n",
      "Input \u001b[0;32mIn [3]\u001b[0m, in \u001b[0;36mstring_reverse\u001b[0;34m(mystring)\u001b[0m\n\u001b[1;32m      1\u001b[0m \u001b[38;5;28;01mdef\u001b[39;00m \u001b[38;5;21mstring_reverse\u001b[39m(mystring):\n\u001b[1;32m      2\u001b[0m     output_str \u001b[38;5;241m=\u001b[39m \u001b[38;5;124m\"\u001b[39m\u001b[38;5;124m\"\u001b[39m\n\u001b[0;32m----> 3\u001b[0m     stack \u001b[38;5;241m=\u001b[39m \u001b[43mStack\u001b[49m()\n\u001b[1;32m      4\u001b[0m     \u001b[38;5;28;01mfor\u001b[39;00m letter \u001b[38;5;129;01min\u001b[39;00m mystring:\n\u001b[1;32m      5\u001b[0m         stack\u001b[38;5;241m.\u001b[39mpush(letter)\n",
      "\u001b[0;31mNameError\u001b[0m: name 'Stack' is not defined"
     ]
    }
   ],
   "source": [
    "string_reverse(\"Anthony\")"
   ]
  },
  {
   "cell_type": "code",
   "execution_count": null,
   "id": "36bebe03",
   "metadata": {},
   "outputs": [],
   "source": []
  }
 ],
 "metadata": {
  "kernelspec": {
   "display_name": "Python 3 (ipykernel)",
   "language": "python",
   "name": "python3"
  },
  "language_info": {
   "codemirror_mode": {
    "name": "ipython",
    "version": 3
   },
   "file_extension": ".py",
   "mimetype": "text/x-python",
   "name": "python",
   "nbconvert_exporter": "python",
   "pygments_lexer": "ipython3",
   "version": "3.8.10"
  }
 },
 "nbformat": 4,
 "nbformat_minor": 5
}
