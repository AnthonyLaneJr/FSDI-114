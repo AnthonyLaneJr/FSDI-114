{
 "cells": [
  {
   "cell_type": "code",
   "execution_count": 3,
   "id": "86d4f2bc",
   "metadata": {},
   "outputs": [],
   "source": [
    "class Node:\n",
    "    def __init__(self, data):\n",
    "        self.next = None\n",
    "        self.prev = None\n",
    "        self.data = data"
   ]
  },
  {
   "cell_type": "code",
   "execution_count": 4,
   "id": "cee86024",
   "metadata": {},
   "outputs": [],
   "source": [
    "class DoublyLinkedList:\n",
    "    def __init__(self):\n",
    "        self.head = None\n",
    "        \n",
    "    def append(self, value):\n",
    "        if not self.head:\n",
    "            self.head = Node(value)\n",
    "        else:\n",
    "            current = self.head\n",
    "            while current.next:\n",
    "                current = current.next\n",
    "            new_node = Node(value)\n",
    "            current.next = new_node\n",
    "            new_node.prev = current\n",
    "            \n",
    "    def __str__(self):\n",
    "        out = \"[%s,\" % self.head.data\n",
    "        current = self.head.next\n",
    "        while current:\n",
    "            out += \",%s\"% current.data\n",
    "            current = current.next\n",
    "        out += \"]\"\n",
    "        return out\n",
    "    \n",
    "    \n",
    "    def __len__(self):\n",
    "        #return length as integer\n",
    "        if not self.head:\n",
    "            return 0\n",
    "        counter = 1\n",
    "        data = self.head\n",
    "        while data.next:\n",
    "            counter = 1+counter\n",
    "            data = data.next\n",
    "        return counter\n",
    "    \n",
    "    def count(self, value):\n",
    "        # return the number of times value exists in list\n",
    "        node = self.head\n",
    "        counter = 0\n",
    "        while node is not None:\n",
    "            if node.data == value:\n",
    "                counter = counter + 1\n",
    "                node = node.next\n",
    "            else:\n",
    "                node = node.next\n",
    "        return counter              \n",
    "        \n",
    "    def index(self, value):\n",
    "        # returns first index of \"value\" if found, ValueError if not found\n",
    "        active = self.head\n",
    "        counter = 0\n",
    "        while active is not None:\n",
    "            if value == active.data:\n",
    "                return counter\n",
    "            counter = counter + 1\n",
    "            active = active.next\n",
    "        "
   ]
  },
  {
   "cell_type": "code",
   "execution_count": 3,
   "id": "07646f4f",
   "metadata": {},
   "outputs": [
    {
     "name": "stdout",
     "output_type": "stream",
     "text": [
      "my age is 100\n",
      "My age is 64 and here's another variable: A\n",
      "My age is 100\n",
      "you are 100 years old\n"
     ]
    }
   ],
   "source": [
    "age = 100\n",
    "other = \"A\"\n",
    "mystring = \"my age is \" + str(age)\n",
    "\n",
    "print(mystring)\n",
    "\n",
    "mystring = \"My age is %x and here's another variable: %s\" % (age, other)\n",
    "\n",
    "print(mystring)\n",
    "\n",
    "mystring = \"My age is {}\".format(age)\n",
    "\n",
    "print(mystring)\n",
    "\n",
    "mystring = f\"you are {str(age)} years old\"\n",
    "\n",
    "print(mystring)"
   ]
  },
  {
   "cell_type": "code",
   "execution_count": 7,
   "id": "fc0b7620",
   "metadata": {},
   "outputs": [
    {
     "name": "stdout",
     "output_type": "stream",
     "text": [
      "[1,,2,3,4,5,6,7,8,9,10]\n",
      "10\n",
      "1\n"
     ]
    }
   ],
   "source": [
    "dll = DoublyLinkedList()\n",
    "\n",
    "for i in range(1, 11):\n",
    "    dll.append(i)\n",
    "    \n",
    "print(dll)\n",
    "\n",
    "print(len(dll))\n",
    "print(dll.count(10))"
   ]
  },
  {
   "cell_type": "code",
   "execution_count": null,
   "id": "2d512df3",
   "metadata": {},
   "outputs": [],
   "source": []
  }
 ],
 "metadata": {
  "kernelspec": {
   "display_name": "Python 3 (ipykernel)",
   "language": "python",
   "name": "python3"
  },
  "language_info": {
   "codemirror_mode": {
    "name": "ipython",
    "version": 3
   },
   "file_extension": ".py",
   "mimetype": "text/x-python",
   "name": "python",
   "nbconvert_exporter": "python",
   "pygments_lexer": "ipython3",
   "version": "3.8.10"
  }
 },
 "nbformat": 4,
 "nbformat_minor": 5
}
